{
 "cells": [
  {
   "cell_type": "code",
   "execution_count": 30,
   "id": "1fa1d882",
   "metadata": {},
   "outputs": [],
   "source": [
    "import warnings\n",
    "warnings.filterwarnings(\"ignore\")\n",
    "import pandas as pd\n",
    "import matplotlib.pyplot as plt\n",
    "import numpy as np\n",
    "import re\n",
    "from tensorflow.keras.preprocessing import timeseries_dataset_from_array\n",
    "from sklearn.preprocessing import StandardScaler\n",
    "from tensorflow.keras.models import Sequential\n",
    "from tensorflow.keras import layers\n",
    "from datetime import date\n",
    "from pandas import to_datetime\n",
    "from datetime import timedelta"
   ]
  },
  {
   "cell_type": "code",
   "execution_count": 28,
   "id": "82e8e588",
   "metadata": {},
   "outputs": [
    {
     "data": {
      "text/plain": [
       "(48,)"
      ]
     },
     "execution_count": 28,
     "metadata": {},
     "output_type": "execute_result"
    }
   ],
   "source": [
    "y_train.shape"
   ]
  },
  {
   "cell_type": "code",
   "execution_count": 12,
   "id": "bc69f4ca",
   "metadata": {},
   "outputs": [],
   "source": [
    "#1676 = TODAY\n",
    "the_input = \"2019-05-03\"\n",
    "today=date.today()\n",
    "date_difference = today - to_datetime(the_input).date()\n",
    "begin_date = 1676 - date_difference.days"
   ]
  },
  {
   "cell_type": "code",
   "execution_count": 13,
   "id": "d7ec3c08",
   "metadata": {},
   "outputs": [],
   "source": [
    "#downlaod data + prepocessing#\n",
    "df = pd.read_csv('../data/full_data_2011-01-01_2022-11-26.csv')\n",
    "df_rain = pd.read_csv('../data/data_precipitation.csv', sep=';')\n",
    "df_temp = pd.read_csv('../data/temperature_data.csv', sep=';')\n",
    "df_futur_rain = pd.read_csv('../data/future_rain.csv', sep=';')\n",
    "df_futur_temp = pd.read_csv('../data/future_temp.csv', sep=';')\n",
    "\n",
    "\n",
    "df = df.loc[[2]].drop(columns='Unnamed: 0').T\n",
    "df.columns = ['energie']\n",
    "df['The_date'] = df['energie']\n",
    "dict_month = {'Jan': '01', 'Feb': '02', 'Mar': '03', 'Apr': '04', 'May': '05', 'Jun': '06', 'Jul': '07', 'Aug': '08','Sep': '09','Oct': '10','Nov': '11','Dec': '12'}\n",
    "for i in range(len(df)):\n",
    "    day = \"\".join(re.findall(\"\\d\", df.index[i].split(\" \", 1)[0]))\n",
    "    month = dict_month[df.index[i].split(\" \")[1]]\n",
    "    year = \"\".join(re.findall(\"\\d\", df.index[i].split(\" \", 1)[1]))\n",
    "    the_date = f'{day}-{month}-{year}'\n",
    "    df['The_date'].iloc[i] = the_date\n",
    "df['The_date'] = pd.to_datetime(df['The_date'])\n",
    "df_temp.drop(columns=['Unnamed: 17'], inplace = True)\n",
    "df = df[2557:-18]\n",
    "df.reset_index(inplace = True)\n",
    "df_futur_rain['mean'] = df_futur_rain.mean(axis=1)\n",
    "df_futur_temp['mean'] = df_futur_temp.mean(axis=1)\n",
    "\n",
    "df_final = pd.DataFrame()\n",
    "df_final['temp'] = df_futur_temp['mean']\n",
    "df_final['rain'] = df_futur_rain['mean']\n",
    "df_final['energie'] = df[\"energie\"]"
   ]
  },
  {
   "cell_type": "code",
   "execution_count": 14,
   "id": "e77c40fc",
   "metadata": {},
   "outputs": [],
   "source": [
    "#smooth curve#\n",
    "df_final['energie_ma'] = df_final['energie'].rolling(14).mean()\n",
    "df_final['rain_ma'] = df_final['rain'].rolling(14).mean()\n",
    "df_final['temp_ma'] = df_final['temp'].rolling(14).mean()"
   ]
  },
  {
   "cell_type": "code",
   "execution_count": 15,
   "id": "ead62032",
   "metadata": {},
   "outputs": [],
   "source": [
    "#data scaling#\n",
    "df_to_scale = ['energie_ma','rain_ma', 'temp_ma']\n",
    "scaler = StandardScaler()\n",
    "\n",
    "for column in df_to_scale:\n",
    "            df_final[column] = scaler.fit_transform(pd.DataFrame(df_final[column],columns=[column]))"
   ]
  },
  {
   "cell_type": "code",
   "execution_count": 16,
   "id": "a969e443",
   "metadata": {},
   "outputs": [],
   "source": [
    "#data spliting(train-test-pred)#\n",
    "X=[]\n",
    "x=[]\n",
    "y = []\n",
    "\n",
    "for i in range(14,begin_date):\n",
    "    x = []\n",
    "    x.append(df_final.loc[i, 'temp_ma'])\n",
    "    x.append(df_final.loc[i, 'rain_ma'])\n",
    "    x.append(df_final.loc[i, 'energie_ma'])\n",
    "    X.append(x)\n",
    "    \n",
    "y = df_final['energie_ma'][begin_date:begin_date+48]\n",
    "\n",
    "X_train = np.array(X).astype(np.float32)\n",
    "y_train = np.array(y).astype(np.float32)\n",
    "\n",
    "dataset_test = timeseries_dataset_from_array(\n",
    "    X_train,\n",
    "    y_train,\n",
    "    sequence_length=50,\n",
    "    batch_size=32,\n",
    ")"
   ]
  },
  {
   "cell_type": "code",
   "execution_count": 17,
   "id": "3700faf5",
   "metadata": {},
   "outputs": [
    {
     "data": {
      "text/plain": [
       "(347, 3)"
      ]
     },
     "execution_count": 17,
     "metadata": {},
     "output_type": "execute_result"
    }
   ],
   "source": [
    "X_train.shape"
   ]
  },
  {
   "cell_type": "code",
   "execution_count": 18,
   "id": "e2c07313",
   "metadata": {},
   "outputs": [
    {
     "data": {
      "text/plain": [
       "<keras.callbacks.History at 0x7f94c450f5b0>"
      ]
     },
     "execution_count": 18,
     "metadata": {},
     "output_type": "execute_result"
    }
   ],
   "source": [
    "#model + fit#\n",
    "model = Sequential()\n",
    "model.add(layers.LSTM(units=32, input_shape=(50,3)))\n",
    "model.add(layers.Dense(1, activation=\"linear\"))\n",
    "\n",
    "model.compile(loss='mse', \n",
    "              optimizer='adam')\n",
    "\n",
    "model.fit(dataset_test,\n",
    "         epochs=150, verbose=0)"
   ]
  },
  {
   "cell_type": "code",
   "execution_count": 19,
   "id": "89faa8b4",
   "metadata": {
    "scrolled": false
   },
   "outputs": [
    {
     "name": "stdout",
     "output_type": "stream",
     "text": [
      "2/2 [==============================] - 0s 12ms/step\n"
     ]
    },
    {
     "data": {
      "image/png": "[encoded data removed]",
      "text/plain": [
       "<Figure size 640x480 with 1 Axes>"
      ]
     },
     "metadata": {},
     "output_type": "display_data"
    }
   ],
   "source": [
    "#prediction +plot#\n",
    "res = model.predict(dataset_test)\n",
    "\n",
    "df_final['pred'] = df_final['energie_ma']\n",
    "for i in range(48):\n",
    "    df_final['pred'][begin_date+i] = res[i]\n",
    "\n",
    "if begin_date >= 1675:\n",
    "    plt.plot(df_final['pred'][begin_date-100:begin_date],label='REAL');\n",
    "    plt.plot(df_final['pred'][begin_date-1:begin_date+48],ls='--',label='PREDICTION');\n",
    "else:\n",
    "    plt.plot(df_final['pred'][begin_date-30:begin_date+48],ls='--',label='PREDICTION');\n",
    "    plt.plot(df_final['energie_ma'][begin_date-30:begin_date+48],label='REAL');\n",
    "    plt.legend(loc='upper left', fontsize=8);"
   ]
  },
  {
   "cell_type": "code",
   "execution_count": 20,
   "id": "ed2db71a",
   "metadata": {},
   "outputs": [
    {
     "data": {
      "text/plain": [
       "<keras.engine.sequential.Sequential at 0x7f951e608d00>"
      ]
     },
     "execution_count": 20,
     "metadata": {},
     "output_type": "execute_result"
    }
   ],
   "source": [
    "model"
   ]
  },
  {
   "cell_type": "code",
   "execution_count": 21,
   "id": "9012deed",
   "metadata": {},
   "outputs": [
    {
     "name": "stderr",
     "output_type": "stream",
     "text": [
      "WARNING:absl:Found untraced functions such as lstm_cell_1_layer_call_fn, lstm_cell_1_layer_call_and_return_conditional_losses while saving (showing 2 of 2). These functions will not be directly callable after loading.\n"
     ]
    },
    {
     "name": "stdout",
     "output_type": "stream",
     "text": [
      "INFO:tensorflow:Assets written to: my_model/assets\n"
     ]
    },
    {
     "name": "stderr",
     "output_type": "stream",
     "text": [
      "INFO:tensorflow:Assets written to: my_model/assets\n"
     ]
    }
   ],
   "source": [
    "model.save('my_model')\n"
   ]
  },
  {
   "cell_type": "code",
   "execution_count": 22,
   "id": "6812ad8d",
   "metadata": {},
   "outputs": [],
   "source": [
    "from tensorflow.keras.models import load_model\n",
    "\n",
    "new_model = load_model('my_model')"
   ]
  },
  {
   "cell_type": "code",
   "execution_count": 23,
   "id": "67c9a4e3",
   "metadata": {},
   "outputs": [
    {
     "data": {
      "text/plain": [
       "(48,)"
      ]
     },
     "execution_count": 23,
     "metadata": {},
     "output_type": "execute_result"
    }
   ],
   "source": [
    "y_train.shape"
   ]
  },
  {
   "cell_type": "code",
   "execution_count": 24,
   "id": "077b15e7",
   "metadata": {},
   "outputs": [
    {
     "data": {
      "text/plain": [
       "array([1., 1., 1., 1., 1., 1., 1., 1., 1., 1., 1., 1., 1., 1., 1., 1., 1.,\n",
       "       1., 1., 1., 1., 1., 1., 1., 1., 1., 1., 1., 1., 1., 1., 1., 1., 1.,\n",
       "       1., 1., 1., 1., 1., 1., 1., 1., 1., 1., 1., 1., 1., 1.])"
      ]
     },
     "execution_count": 24,
     "metadata": {},
     "output_type": "execute_result"
    }
   ],
   "source": [
    "y_train\n",
    "np.ones(48)"
   ]
  },
  {
   "cell_type": "code",
   "execution_count": 25,
   "id": "c9a0cea0",
   "metadata": {},
   "outputs": [],
   "source": [
    "dataset_test = timeseries_dataset_from_array(\n",
    "    X_train,\n",
    "    np.ones(48),    \n",
    "    sequence_length=50,\n",
    "    batch_size=32,\n",
    ")"
   ]
  },
  {
   "cell_type": "code",
   "execution_count": 26,
   "id": "44a7d1e5",
   "metadata": {},
   "outputs": [
    {
     "name": "stdout",
     "output_type": "stream",
     "text": [
      "2/2 [==============================] - 1s 19ms/step\n"
     ]
    },
    {
     "data": {
      "text/plain": [
       "RangeIndex(start=0, stop=1789, step=1)"
      ]
     },
     "execution_count": 26,
     "metadata": {},
     "output_type": "execute_result"
    },
    {
     "data": {
      "image/png": "[encoded data removed]",
      "text/plain": [
       "<Figure size 640x480 with 1 Axes>"
      ]
     },
     "metadata": {},
     "output_type": "display_data"
    }
   ],
   "source": [
    "#prediction +plot#\n",
    "res = new_model.predict(dataset_test)\n",
    "\n",
    "df_final['pred'] = df_final['energie_ma']\n",
    "for i in range(48):\n",
    "    df_final['pred'][begin_date+i] = res[i]\n",
    "\n",
    "if begin_date >= 1675:\n",
    "    plt.plot(df_final['pred'][begin_date-100:begin_date],label='REAL');\n",
    "    plt.plot(df_final['pred'][begin_date-1:begin_date+48],ls='--',label='PREDICTION');\n",
    "else:\n",
    "    plt.plot(df_final['pred'][begin_date-30:begin_date+48],ls='--',label='PREDICTION');\n",
    "    plt.plot(df_final['energie_ma'][begin_date-30:begin_date+48],label='REAL');\n",
    "    plt.legend(loc='upper left', fontsize=8);\n",
    "\n",
    "df_final.index "
   ]
  },
  {
   "cell_type": "code",
   "execution_count": 29,
   "id": "9643695a",
   "metadata": {},
   "outputs": [
    {
     "data": {
      "text/plain": [
       "array([[ 0.72422296],\n",
       "       [ 0.75179607],\n",
       "       [ 0.74985749],\n",
       "       [ 0.72388804],\n",
       "       [ 0.66491717],\n",
       "       [ 0.59355915],\n",
       "       [ 0.50527042],\n",
       "       [ 0.43271527],\n",
       "       [ 0.37708467],\n",
       "       [ 0.32266352],\n",
       "       [ 0.27099571],\n",
       "       [ 0.22282572],\n",
       "       [ 0.17112103],\n",
       "       [ 0.12030804],\n",
       "       [ 0.07616709],\n",
       "       [ 0.02869496],\n",
       "       [-0.01961472],\n",
       "       [-0.06019017],\n",
       "       [-0.07407025],\n",
       "       [-0.08503653],\n",
       "       [-0.06849177],\n",
       "       [-0.06500676],\n",
       "       [-0.06247586],\n",
       "       [-0.01816968],\n",
       "       [-0.00553642],\n",
       "       [-0.01499767],\n",
       "       [-0.02263052],\n",
       "       [-0.06703267],\n",
       "       [-0.13089006],\n",
       "       [-0.22109634],\n",
       "       [-0.30808592],\n",
       "       [-0.38006404],\n",
       "       [-0.4532043 ],\n",
       "       [-0.50012106],\n",
       "       [-0.5338642 ],\n",
       "       [-0.54979748],\n",
       "       [-0.55863279],\n",
       "       [-0.52796125],\n",
       "       [-0.49372262],\n",
       "       [-0.432271  ],\n",
       "       [-0.36880735],\n",
       "       [-0.31001452],\n",
       "       [-0.24872112],\n",
       "       [-0.1862334 ],\n",
       "       [-0.12697735],\n",
       "       [-0.08557887],\n",
       "       [-0.03605191],\n",
       "       [-0.0029429 ]])"
      ]
     },
     "execution_count": 29,
     "metadata": {},
     "output_type": "execute_result"
    }
   ],
   "source": [
    "import requests\n",
    "\n",
    "url = \"http://127.0.0.1:8000/predict/\"\n",
    "files = [(\"files\", X_train),\n",
    "         (\"files\", y_train)]\n",
    "\n",
    "response =requests.post(url,files=files).json()\n",
    "pred = np.array(response[\"pred\"])\n",
    "pred"
   ]
  },
  {
   "cell_type": "code",
   "execution_count": null,
   "id": "19a65668",
   "metadata": {},
   "outputs": [],
   "source": []
  }
 ],
 "metadata": {
  "kernelspec": {
   "display_name": "Python 3.10.6 64-bit ('shims')",
   "language": "python",
   "name": "python3"
  },
  "language_info": {
   "codemirror_mode": {
    "name": "ipython",
    "version": 3
   },
   "file_extension": ".py",
   "mimetype": "text/x-python",
   "name": "python",
   "nbconvert_exporter": "python",
   "pygments_lexer": "ipython3",
   "version": "3.10.6"
  },
  "toc": {
   "base_numbering": 1,
   "nav_menu": {},
   "number_sections": true,
   "sideBar": true,
   "skip_h1_title": false,
   "title_cell": "Table of Contents",
   "title_sidebar": "Contents",
   "toc_cell": false,
   "toc_position": {},
   "toc_section_display": true,
   "toc_window_display": false
  },
  "vscode": {
   "interpreter": {
    "hash": "1420c2153ade35db99e18e58fd333f6b4051774eea2a34510ebd3c49dcef1aaa"
   }
  }
 },
 "nbformat": 4,
 "nbformat_minor": 5
}
