{
 "cells": [
  {
   "cell_type": "code",
   "execution_count": 1,
   "id": "1fa1d882",
   "metadata": {},
   "outputs": [
    {
     "name": "stderr",
     "output_type": "stream",
     "text": [
      "2022-12-08 11:36:21.074924: I tensorflow/core/platform/cpu_feature_guard.cc:193] This TensorFlow binary is optimized with oneAPI Deep Neural Network Library (oneDNN) to use the following CPU instructions in performance-critical operations:  AVX2 FMA\n",
      "To enable them in other operations, rebuild TensorFlow with the appropriate compiler flags.\n",
      "2022-12-08 11:36:21.868888: W tensorflow/stream_executor/platform/default/dso_loader.cc:64] Could not load dynamic library 'libcudart.so.11.0'; dlerror: libcudart.so.11.0: cannot open shared object file: No such file or directory\n",
      "2022-12-08 11:36:21.868906: I tensorflow/stream_executor/cuda/cudart_stub.cc:29] Ignore above cudart dlerror if you do not have a GPU set up on your machine.\n",
      "2022-12-08 11:36:21.971342: E tensorflow/stream_executor/cuda/cuda_blas.cc:2981] Unable to register cuBLAS factory: Attempting to register factory for plugin cuBLAS when one has already been registered\n",
      "2022-12-08 11:36:23.962316: W tensorflow/stream_executor/platform/default/dso_loader.cc:64] Could not load dynamic library 'libnvinfer.so.7'; dlerror: libnvinfer.so.7: cannot open shared object file: No such file or directory\n",
      "2022-12-08 11:36:23.962516: W tensorflow/stream_executor/platform/default/dso_loader.cc:64] Could not load dynamic library 'libnvinfer_plugin.so.7'; dlerror: libnvinfer_plugin.so.7: cannot open shared object file: No such file or directory\n",
      "2022-12-08 11:36:23.962526: W tensorflow/compiler/tf2tensorrt/utils/py_utils.cc:38] TF-TRT Warning: Cannot dlopen some TensorRT libraries. If you would like to use Nvidia GPU with TensorRT, please make sure the missing libraries mentioned above are installed properly.\n"
     ]
    }
   ],
   "source": [
    "import warnings\n",
    "warnings.filterwarnings(\"ignore\")\n",
    "import pandas as pd\n",
    "import matplotlib.pyplot as plt\n",
    "import numpy as np\n",
    "import re\n",
    "from tensorflow.keras.preprocessing import timeseries_dataset_from_array\n",
    "from sklearn.preprocessing import StandardScaler\n",
    "from tensorflow.keras.models import Sequential\n",
    "from tensorflow.keras import layers\n",
    "from datetime import date\n",
    "from pandas import to_datetime"
   ]
  },
  {
   "cell_type": "code",
   "execution_count": 3,
   "id": "bc69f4ca",
   "metadata": {},
   "outputs": [],
   "source": [
    "#1676 = TODAY\n",
    "the_input = \"2020-01-01\"\n",
    "today=date.today()\n",
    "date_difference = today - to_datetime(the_input).date()\n",
    "begin_date = 1676 - date_difference.days"
   ]
  },
  {
   "cell_type": "code",
   "execution_count": 5,
   "id": "d7ec3c08",
   "metadata": {},
   "outputs": [],
   "source": [
    "#downlaod data + prepocessing#\n",
    "df = pd.read_csv('../data/full_data_2011-01-01_2022-11-26.csv')\n",
    "df_rain = pd.read_csv('../data/data_precipitation.csv', sep=';')\n",
    "df_temp = pd.read_csv('../data/temperature_data.csv', sep=';')\n",
    "df_futur_rain = pd.read_csv('../data/future_rain.csv', sep=';')\n",
    "df_futur_temp = pd.read_csv('../data/future_temp.csv', sep=';')\n",
    "\n",
    "\n",
    "df = df.loc[[2]].drop(columns='Unnamed: 0').T\n",
    "df.columns = ['energie']\n",
    "df['The_date'] = df['energie']\n",
    "dict_month = {'Jan': '01', 'Feb': '02', 'Mar': '03', 'Apr': '04', 'May': '05', 'Jun': '06', 'Jul': '07', 'Aug': '08','Sep': '09','Oct': '10','Nov': '11','Dec': '12'}\n",
    "for i in range(len(df)):\n",
    "    day = \"\".join(re.findall(\"\\d\", df.index[i].split(\" \", 1)[0]))\n",
    "    month = dict_month[df.index[i].split(\" \")[1]]\n",
    "    year = \"\".join(re.findall(\"\\d\", df.index[i].split(\" \", 1)[1]))\n",
    "    the_date = f'{day}-{month}-{year}'\n",
    "    df['The_date'].iloc[i] = the_date\n",
    "df['The_date'] = pd.to_datetime(df['The_date'])\n",
    "df_temp.drop(columns=['Unnamed: 17'], inplace = True)\n",
    "df = df[2557:-18]\n",
    "df.reset_index(inplace = True)\n",
    "df_futur_rain['mean'] = df_futur_rain.mean(axis=1)\n",
    "df_futur_temp['mean'] = df_futur_temp.mean(axis=1)\n",
    "\n",
    "df_final = pd.DataFrame()\n",
    "df_final['temp'] = df_futur_temp['mean']\n",
    "df_final['rain'] = df_futur_rain['mean']\n",
    "df_final['energie'] = df[\"energie\"]"
   ]
  },
  {
   "cell_type": "code",
   "execution_count": 6,
   "id": "e77c40fc",
   "metadata": {},
   "outputs": [],
   "source": [
    "#smooth curve#\n",
    "df_final['energie_ma'] = df_final['energie'].rolling(14).mean()\n",
    "df_final['rain_ma'] = df_final['rain'].rolling(14).mean()\n",
    "df_final['temp_ma'] = df_final['temp'].rolling(14).mean()"
   ]
  },
  {
   "cell_type": "code",
   "execution_count": 7,
   "id": "ead62032",
   "metadata": {},
   "outputs": [],
   "source": [
    "#data scaling#\n",
    "df_to_scale = ['energie_ma','rain_ma', 'temp_ma']\n",
    "scaler = StandardScaler()\n",
    "\n",
    "for column in df_to_scale:\n",
    "            df_final[column] = scaler.fit_transform(pd.DataFrame(df_final[column],columns=[column]))"
   ]
  },
  {
   "cell_type": "code",
   "execution_count": 8,
   "id": "a969e443",
   "metadata": {},
   "outputs": [
    {
     "name": "stderr",
     "output_type": "stream",
     "text": [
      "2022-12-08 11:39:54.836639: I tensorflow/stream_executor/cuda/cuda_gpu_executor.cc:966] could not open file to read NUMA node: /sys/bus/pci/devices/0000:01:00.0/numa_node\n",
      "Your kernel may have been built without NUMA support.\n",
      "2022-12-08 11:39:54.836862: W tensorflow/stream_executor/platform/default/dso_loader.cc:64] Could not load dynamic library 'libcudart.so.11.0'; dlerror: libcudart.so.11.0: cannot open shared object file: No such file or directory\n",
      "2022-12-08 11:39:54.836933: W tensorflow/stream_executor/platform/default/dso_loader.cc:64] Could not load dynamic library 'libcublas.so.11'; dlerror: libcublas.so.11: cannot open shared object file: No such file or directory\n",
      "2022-12-08 11:39:54.837198: W tensorflow/stream_executor/platform/default/dso_loader.cc:64] Could not load dynamic library 'libcublasLt.so.11'; dlerror: libcublasLt.so.11: cannot open shared object file: No such file or directory\n",
      "2022-12-08 11:39:54.837540: W tensorflow/stream_executor/platform/default/dso_loader.cc:64] Could not load dynamic library 'libcufft.so.10'; dlerror: libcufft.so.10: cannot open shared object file: No such file or directory\n",
      "2022-12-08 11:39:54.837710: W tensorflow/stream_executor/platform/default/dso_loader.cc:64] Could not load dynamic library 'libcurand.so.10'; dlerror: libcurand.so.10: cannot open shared object file: No such file or directory\n",
      "2022-12-08 11:39:54.837901: W tensorflow/stream_executor/platform/default/dso_loader.cc:64] Could not load dynamic library 'libcusolver.so.11'; dlerror: libcusolver.so.11: cannot open shared object file: No such file or directory\n",
      "2022-12-08 11:39:54.838172: W tensorflow/stream_executor/platform/default/dso_loader.cc:64] Could not load dynamic library 'libcusparse.so.11'; dlerror: libcusparse.so.11: cannot open shared object file: No such file or directory\n",
      "2022-12-08 11:39:54.838355: W tensorflow/stream_executor/platform/default/dso_loader.cc:64] Could not load dynamic library 'libcudnn.so.8'; dlerror: libcudnn.so.8: cannot open shared object file: No such file or directory\n",
      "2022-12-08 11:39:54.838377: W tensorflow/core/common_runtime/gpu/gpu_device.cc:1934] Cannot dlopen some GPU libraries. Please make sure the missing libraries mentioned above are installed properly if you would like to use GPU. Follow the guide at https://www.tensorflow.org/install/gpu for how to download and setup the required libraries for your platform.\n",
      "Skipping registering GPU devices...\n",
      "2022-12-08 11:39:54.845789: I tensorflow/core/platform/cpu_feature_guard.cc:193] This TensorFlow binary is optimized with oneAPI Deep Neural Network Library (oneDNN) to use the following CPU instructions in performance-critical operations:  AVX2 FMA\n",
      "To enable them in other operations, rebuild TensorFlow with the appropriate compiler flags.\n"
     ]
    }
   ],
   "source": [
    "#data spliting(train-test-pred)#\n",
    "X=[]\n",
    "x=[]\n",
    "y = []\n",
    "\n",
    "for i in range(14,begin_date):\n",
    "    x = []\n",
    "    x.append(df_final.loc[i, 'temp_ma'])\n",
    "    x.append(df_final.loc[i, 'rain_ma'])\n",
    "    x.append(df_final.loc[i, 'energie_ma'])\n",
    "    X.append(x)\n",
    "    \n",
    "y = df_final['energie_ma'][begin_date:begin_date+48]\n",
    "\n",
    "X_train = np.array(X).astype(np.float32)\n",
    "y_train = np.array(y).astype(np.float32)\n",
    "\n",
    "dataset_test = timeseries_dataset_from_array(\n",
    "    X_train,\n",
    "    y_train,\n",
    "    sequence_length=50,\n",
    "    batch_size=32,\n",
    ")"
   ]
  },
  {
   "cell_type": "code",
   "execution_count": 28,
   "id": "3700faf5",
   "metadata": {},
   "outputs": [
    {
     "data": {
      "text/plain": [
       "(590, 3)"
      ]
     },
     "execution_count": 28,
     "metadata": {},
     "output_type": "execute_result"
    }
   ],
   "source": [
    "X_train.shape"
   ]
  },
  {
   "cell_type": "code",
   "execution_count": 9,
   "id": "e2c07313",
   "metadata": {},
   "outputs": [
    {
     "data": {
      "text/plain": [
       "<keras.callbacks.History at 0x7f47ec162950>"
      ]
     },
     "execution_count": 9,
     "metadata": {},
     "output_type": "execute_result"
    }
   ],
   "source": [
    "#model + fit#\n",
    "model = Sequential()\n",
    "model.add(layers.LSTM(units=32, input_shape=(50,3)))\n",
    "model.add(layers.Dense(1, activation=\"linear\"))\n",
    "\n",
    "model.compile(loss='mse', \n",
    "              optimizer='adam')\n",
    "\n",
    "model.fit(dataset_test,\n",
    "         epochs=150, verbose=0)"
   ]
  },
  {
   "cell_type": "code",
   "execution_count": 10,
   "id": "89faa8b4",
   "metadata": {
    "scrolled": false
   },
   "outputs": [
    {
     "name": "stdout",
     "output_type": "stream",
     "text": [
      "2/2 [==============================] - 1s 20ms/step\n"
     ]
    },
    {
     "data": {
      "text/plain": [
       "RangeIndex(start=0, stop=1789, step=1)"
      ]
     },
     "execution_count": 10,
     "metadata": {},
     "output_type": "execute_result"
    },
    {
     "data": {
      "image/png": "[encoded data removed]",
      "text/plain": [
       "<Figure size 640x480 with 1 Axes>"
      ]
     },
     "metadata": {},
     "output_type": "display_data"
    }
   ],
   "source": [
    "#prediction +plot#\n",
    "res = model.predict(dataset_test)\n",
    "\n",
    "df_final['pred'] = df_final['energie_ma']\n",
    "for i in range(48):\n",
    "    df_final['pred'][begin_date+i] = res[i]\n",
    "\n",
    "if begin_date >= 1675:\n",
    "    plt.plot(df_final['pred'][begin_date-100:begin_date],label='REAL');\n",
    "    plt.plot(df_final['pred'][begin_date-1:begin_date+48],ls='--',label='PREDICTION');\n",
    "else:\n",
    "    plt.plot(df_final['pred'][begin_date-30:begin_date+48],ls='--',label='PREDICTION');\n",
    "    plt.plot(df_final['energie_ma'][begin_date-30:begin_date+48],label='REAL');\n",
    "    plt.legend(loc='upper left', fontsize=8);\n",
    "\n",
    "df_final.index "
   ]
  },
  {
   "cell_type": "code",
   "execution_count": 11,
   "id": "ed2db71a",
   "metadata": {},
   "outputs": [
    {
     "data": {
      "text/plain": [
       "<keras.engine.sequential.Sequential at 0x7f47f5e2b880>"
      ]
     },
     "execution_count": 11,
     "metadata": {},
     "output_type": "execute_result"
    }
   ],
   "source": [
    "model"
   ]
  },
  {
   "cell_type": "code",
   "execution_count": 13,
   "id": "9012deed",
   "metadata": {},
   "outputs": [
    {
     "name": "stderr",
     "output_type": "stream",
     "text": [
      "WARNING:absl:Found untraced functions such as lstm_cell_layer_call_fn, lstm_cell_layer_call_and_return_conditional_losses while saving (showing 2 of 2). These functions will not be directly callable after loading.\n"
     ]
    },
    {
     "name": "stdout",
     "output_type": "stream",
     "text": [
      "INFO:tensorflow:Assets written to: my_model/assets\n"
     ]
    },
    {
     "name": "stderr",
     "output_type": "stream",
     "text": [
      "INFO:tensorflow:Assets written to: my_model/assets\n"
     ]
    }
   ],
   "source": [
    "model.save('my_model')\n"
   ]
  },
  {
   "cell_type": "code",
   "execution_count": 15,
   "id": "6812ad8d",
   "metadata": {},
   "outputs": [],
   "source": [
    "from tensorflow.keras.models import load_model\n",
    "\n",
    "new_model = load_model('my_model')"
   ]
  },
  {
   "cell_type": "code",
   "execution_count": 21,
   "id": "67c9a4e3",
   "metadata": {},
   "outputs": [
    {
     "data": {
      "text/plain": [
       "(48,)"
      ]
     },
     "execution_count": 21,
     "metadata": {},
     "output_type": "execute_result"
    }
   ],
   "source": [
    "y_train.shape"
   ]
  },
  {
   "cell_type": "code",
   "execution_count": 25,
   "id": "077b15e7",
   "metadata": {},
   "outputs": [
    {
     "data": {
      "text/plain": [
       "array([1., 1., 1., 1., 1., 1., 1., 1., 1., 1., 1., 1., 1., 1., 1., 1., 1.,\n",
       "       1., 1., 1., 1., 1., 1., 1., 1., 1., 1., 1., 1., 1., 1., 1., 1., 1.,\n",
       "       1., 1., 1., 1., 1., 1., 1., 1., 1., 1., 1., 1., 1., 1.])"
      ]
     },
     "execution_count": 25,
     "metadata": {},
     "output_type": "execute_result"
    }
   ],
   "source": [
    "y_train\n",
    "np.ones(48)"
   ]
  },
  {
   "cell_type": "code",
   "execution_count": 26,
   "id": "c9a0cea0",
   "metadata": {},
   "outputs": [],
   "source": [
    "dataset_test = timeseries_dataset_from_array(\n",
    "    X_train,\n",
    "    np.ones(48),    \n",
    "    sequence_length=50,\n",
    "    batch_size=32,\n",
    ")"
   ]
  },
  {
   "cell_type": "code",
   "execution_count": 27,
   "id": "44a7d1e5",
   "metadata": {},
   "outputs": [
    {
     "name": "stdout",
     "output_type": "stream",
     "text": [
      "2/2 [==============================] - 0s 11ms/step\n"
     ]
    },
    {
     "data": {
      "text/plain": [
       "RangeIndex(start=0, stop=1789, step=1)"
      ]
     },
     "execution_count": 27,
     "metadata": {},
     "output_type": "execute_result"
    },
    {
     "data": {
      "image/png": "[encoded data removed]",
      "text/plain": [
       "<Figure size 640x480 with 1 Axes>"
      ]
     },
     "metadata": {},
     "output_type": "display_data"
    }
   ],
   "source": [
    "#prediction +plot#\n",
    "res = new_model.predict(dataset_test)\n",
    "\n",
    "df_final['pred'] = df_final['energie_ma']\n",
    "for i in range(48):\n",
    "    df_final['pred'][begin_date+i] = res[i]\n",
    "\n",
    "if begin_date >= 1675:\n",
    "    plt.plot(df_final['pred'][begin_date-100:begin_date],label='REAL');\n",
    "    plt.plot(df_final['pred'][begin_date-1:begin_date+48],ls='--',label='PREDICTION');\n",
    "else:\n",
    "    plt.plot(df_final['pred'][begin_date-30:begin_date+48],ls='--',label='PREDICTION');\n",
    "    plt.plot(df_final['energie_ma'][begin_date-30:begin_date+48],label='REAL');\n",
    "    plt.legend(loc='upper left', fontsize=8);\n",
    "\n",
    "df_final.index "
   ]
  },
  {
   "cell_type": "code",
   "execution_count": 41,
   "id": "9643695a",
   "metadata": {},
   "outputs": [
    {
     "data": {
      "text/plain": [
       "array([[-0.77486461],\n",
       "       [-0.85022843],\n",
       "       [-0.91549128],\n",
       "       [-0.95558357],\n",
       "       [-0.95955825],\n",
       "       [-0.94767255],\n",
       "       [-0.92379725],\n",
       "       [-0.90556979],\n",
       "       [-0.90028447],\n",
       "       [-0.8888889 ],\n",
       "       [-0.87574011],\n",
       "       [-0.8472321 ],\n",
       "       [-0.81112128],\n",
       "       [-0.76096916],\n",
       "       [-0.69454098],\n",
       "       [-0.61759365],\n",
       "       [-0.53216839],\n",
       "       [-0.44411433],\n",
       "       [-0.35737687],\n",
       "       [-0.26736492],\n",
       "       [-0.18174551],\n",
       "       [-0.09577891],\n",
       "       [-0.01802032],\n",
       "       [ 0.02095889],\n",
       "       [ 0.06320189],\n",
       "       [ 0.11951031],\n",
       "       [ 0.1377198 ],\n",
       "       [ 0.15998642],\n",
       "       [ 0.17558928],\n",
       "       [ 0.20669   ],\n",
       "       [ 0.23580885],\n",
       "       [ 0.25654036],\n",
       "       [ 0.28541166],\n",
       "       [ 0.30352098],\n",
       "       [ 0.31770253],\n",
       "       [ 0.33115894],\n",
       "       [ 0.35419202],\n",
       "       [ 0.34680462],\n",
       "       [ 0.33606547],\n",
       "       [ 0.28469199],\n",
       "       [ 0.23789446],\n",
       "       [ 0.19208916],\n",
       "       [ 0.13881604],\n",
       "       [ 0.0812723 ],\n",
       "       [ 0.03494963],\n",
       "       [-0.00168662],\n",
       "       [-0.04013132],\n",
       "       [-0.06269988]])"
      ]
     },
     "execution_count": 41,
     "metadata": {},
     "output_type": "execute_result"
    }
   ],
   "source": [
    "import requests\n",
    "\n",
    "url = \"http://127.0.0.1:8000/predict/\"\n",
    "file = {\"file\": X_train}\n",
    "\n",
    "response =requests.post(url,files=file).json()\n",
    "pred = np.array(response[\"pred\"])\n",
    "pred"
   ]
  },
  {
   "cell_type": "code",
   "execution_count": null,
   "id": "19a65668",
   "metadata": {},
   "outputs": [],
   "source": []
  }
 ],
 "metadata": {
  "kernelspec": {
   "display_name": "Python 3.10.6 64-bit ('shims')",
   "language": "python",
   "name": "python3"
  },
  "language_info": {
   "codemirror_mode": {
    "name": "ipython",
    "version": 3
   },
   "file_extension": ".py",
   "mimetype": "text/x-python",
   "name": "python",
   "nbconvert_exporter": "python",
   "pygments_lexer": "ipython3",
   "version": "3.10.6"
  },
  "toc": {
   "base_numbering": 1,
   "nav_menu": {},
   "number_sections": true,
   "sideBar": true,
   "skip_h1_title": false,
   "title_cell": "Table of Contents",
   "title_sidebar": "Contents",
   "toc_cell": false,
   "toc_position": {},
   "toc_section_display": true,
   "toc_window_display": false
  },
  "vscode": {
   "interpreter": {
    "hash": "1420c2153ade35db99e18e58fd333f6b4051774eea2a34510ebd3c49dcef1aaa"
   }
  }
 },
 "nbformat": 4,
 "nbformat_minor": 5
}
